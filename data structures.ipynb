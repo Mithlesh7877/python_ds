{
 "cells": [
  {
   "cell_type": "markdown",
   "metadata": {},
   "source": [
    "Searching algo"
   ]
  },
  {
   "cell_type": "code",
   "execution_count": 87,
   "metadata": {},
   "outputs": [
    {
     "data": {
      "text/plain": [
       "[]"
      ]
     },
     "execution_count": 87,
     "metadata": {},
     "output_type": "execute_result"
    }
   ],
   "source": [
    "#linear search\n",
    "def lsearch(arr,x):\n",
    "    for i in range(len(arr)):\n",
    "        if arr[i]==x:\n",
    "            return i\n",
    "        \n",
    "    return -1\n",
    "ar=[1,2,3,4,5,6,7,8,9]\n",
    "lsearch(ar,8)\n",
    "\n",
    "#how to find duplicate \n",
    "def dup(arr):\n",
    "    rep=[]\n",
    "    for i in range(len(arr)):\n",
    "        k=i+1\n",
    "        for j in range(k,len(arr)):\n",
    "            if arr[i]==arr[j] and arr[i]not in rep:\n",
    "                rep.append(arr[i])\n",
    "    return rep\n",
    "dup(ar)  "
   ]
  },
  {
   "cell_type": "code",
   "execution_count": 89,
   "metadata": {},
   "outputs": [
    {
     "data": {
      "text/plain": [
       "8"
      ]
     },
     "execution_count": 89,
     "metadata": {},
     "output_type": "execute_result"
    }
   ],
   "source": [
    "#Binary search\n",
    "def bsearch(arr,x):\n",
    "    l=0;\n",
    "    h=len(arr)-1\n",
    "    while l <= h:\n",
    "        mid = l + (h - l)//2\n",
    "        if arr[mid]==x:\n",
    "            return mid \n",
    "        elif arr[mid]<x:\n",
    "            l=mid+1\n",
    "        elif arr[mid]>x:\n",
    "            h=mid-1\n",
    "    return -1\n",
    "bsearch(ar,9)"
   ]
  },
  {
   "cell_type": "markdown",
   "metadata": {},
   "source": [
    "Sorting"
   ]
  },
  {
   "cell_type": "code",
   "execution_count": 111,
   "metadata": {},
   "outputs": [
    {
     "data": {
      "text/plain": [
       "[11, 12, 22, 25, 64]"
      ]
     },
     "execution_count": 111,
     "metadata": {},
     "output_type": "execute_result"
    }
   ],
   "source": [
    "#selection sort \n",
    "a=[64, 25, 12, 22, 11]\n",
    "def ssort(a):\n",
    "    for i in range(len(a)):\n",
    "        for j in range(i+1,len(a)):\n",
    "            if a[i]>a[j]:\n",
    "                a[i],a[j]=a[j],a[i]\n",
    "    return a\n",
    "\n",
    "    \n",
    "ssort(a)"
   ]
  },
  {
   "cell_type": "code",
   "execution_count": 115,
   "metadata": {},
   "outputs": [
    {
     "data": {
      "text/plain": [
       "[11, 12, 22, 25, 64]"
      ]
     },
     "execution_count": 115,
     "metadata": {},
     "output_type": "execute_result"
    }
   ],
   "source": [
    "#bubble sort \n",
    "#optimized by using swapped. I f no swapping is happening then break\n",
    "def bsort(a):\n",
    "    n=len(a)\n",
    "    for i in range(n):\n",
    "        swapped = False\n",
    "        for j in range(0,n-i-1):\n",
    "            if a[j]>a[j+1]:\n",
    "                a[j],a[j+1]=a[j+1],a[j]\n",
    "                swapped = True\n",
    "        if swapped == False: \n",
    "            break\n",
    "    return a\n",
    "bsort(a)"
   ]
  }
 ],
 "metadata": {
  "kernelspec": {
   "display_name": "Python 3",
   "language": "python",
   "name": "python3"
  },
  "language_info": {
   "codemirror_mode": {
    "name": "ipython",
    "version": 3
   },
   "file_extension": ".py",
   "mimetype": "text/x-python",
   "name": "python",
   "nbconvert_exporter": "python",
   "pygments_lexer": "ipython3",
   "version": "3.7.3"
  }
 },
 "nbformat": 4,
 "nbformat_minor": 2
}
